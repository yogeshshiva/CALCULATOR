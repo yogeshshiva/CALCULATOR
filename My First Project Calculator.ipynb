{
 "cells": [
  {
   "cell_type": "code",
   "execution_count": null,
   "id": "6795791e",
   "metadata": {},
   "outputs": [
    {
     "name": "stdout",
     "output_type": "stream",
     "text": [
      "Enter your first number.\n",
      "6\n",
      "Enter your second number.\n",
      "7\n",
      "press 1  for addition.\n",
      "press 2 for subtraction.\n",
      "press 3 for division.\n",
      "press 4 for multiplication.\n",
      "\n",
      "press the number.\n",
      "1\n",
      "the sum of your two number 6 + 7 is 13\n"
     ]
    }
   ],
   "source": [
    "i=1\n",
    "while(i>=1):\n",
    "    num1=int(input(\"Enter your first number.\\n\"))\n",
    "    num2=int(input(\"Enter your second number.\\n\"))\n",
    "    print(\"press 1  for addition.\\n\"\n",
    "          \"press 2 for subtraction.\\n\"\n",
    "          \"press 3 for division.\\n\"\n",
    "          \"press 4 for multiplication.\\n\")\n",
    "    num3=int(input(\"press the number.\\n\"))\n",
    "    sum=num1+num2\n",
    "    multiply=num1*num2\n",
    "    subtract=num1-num2\n",
    "    divide=num1/num2\n",
    "    if (num3>=1) and (num3<=4):\n",
    "        if (num3==1):\n",
    "           print(\"the sum of your two number\",num1,\"+\",num2,\"is\",sum)\n",
    "        elif (num3==2):\n",
    "            print(\"the subtraction of your two number\",num1,\"-\",num2,\"is\",subtract)\n",
    "        elif (num3==3):\n",
    "            print(\"the divide of your two number\",num1,\"/\",num2,\"is\",divide)\n",
    "        else:\n",
    "             print(\"the multiple of your two number\",num1,\"x\",num2,\"is\",multiply)\n",
    "    else:\n",
    "        print(\"please enter 1 to 4 number only\")\n"
   ]
  },
  {
   "cell_type": "code",
   "execution_count": null,
   "id": "30f23c99",
   "metadata": {},
   "outputs": [],
   "source": []
  }
 ],
 "metadata": {
  "kernelspec": {
   "display_name": "Python 3 (ipykernel)",
   "language": "python",
   "name": "python3"
  },
  "language_info": {
   "codemirror_mode": {
    "name": "ipython",
    "version": 3
   },
   "file_extension": ".py",
   "mimetype": "text/x-python",
   "name": "python",
   "nbconvert_exporter": "python",
   "pygments_lexer": "ipython3",
   "version": "3.9.12"
  }
 },
 "nbformat": 4,
 "nbformat_minor": 5
}
